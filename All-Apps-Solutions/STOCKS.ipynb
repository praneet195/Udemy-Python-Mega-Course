{
 "cells": [
  {
   "cell_type": "code",
   "execution_count": 15,
   "metadata": {
    "scrolled": true
   },
   "outputs": [],
   "source": [
    "from pandas_datareader import data\n",
    "from pandas import to_datetime\n",
    "import datetime\n",
    "from bokeh.plotting import figure, show, output_file\n",
    "from bokeh.embed import components\n",
    "from bokeh.resources import CDN\n",
    "\n",
    "start = datetime.datetime(2015,3,1)\n",
    "end = datetime.datetime(2016,3,10)\n",
    "df = data.get_data_quandl('AAPL',start=start,end=end)\n",
    "\n",
    "def inc_dec(c, o):\n",
    "    if c < o:\n",
    "        return \"Increase\"\n",
    "    elif c > o:\n",
    "        return \"Decrease\"\n",
    "    else:\n",
    "        return \"Equal\"\n",
    "    \n",
    "df['Status'] = [inc_dec(c, o) for c, o in zip(df.Close, df.Open)]\n",
    "df['Middle'] = (df.Open + df.Close)/2\n",
    "df['Height'] = abs(df.Open - df.Close)\n",
    "\n",
    "p=figure(x_axis_type='datetime', height=300, responsive=True)\n",
    "p.title.text = 'Candlestick Graph'\n",
    "p.grid.grid_line_alpha=0.3\n",
    "\n",
    "p.segment(df.index, df.High, df.index, df.Low, color='black')\n",
    "\n",
    "hours_12 = 12*60*60*1000\n",
    "p.rect(df.index[df.Status=='Increase'], df.Middle[df.Status=='Increase'],\n",
    "       hours_12, df.Height[df.Status=='Increase'], color='green', line_color='black')\n",
    "\n",
    "p.rect(df.index[df.Status=='Decrease'], df.Middle[df.Status=='Decrease'],\n",
    "       hours_12, df.Height[df.Status=='Decrease'], color='red', line_color='black')\n",
    "\n",
    "script1, div1 = components(p)\n",
    "cdn_js = CDN.js_files[0]\n",
    "cdn_css = CDN.js_files[0]\n",
    "\n",
    "#output_file('23202_stock_clandlestick_graph.html')\n",
    "#show(p)"
   ]
  }
 ],
 "metadata": {
  "kernelspec": {
   "display_name": "Python 3",
   "language": "python",
   "name": "python3"
  },
  "language_info": {
   "codemirror_mode": {
    "name": "ipython",
    "version": 3
   },
   "file_extension": ".py",
   "mimetype": "text/x-python",
   "name": "python",
   "nbconvert_exporter": "python",
   "pygments_lexer": "ipython3",
   "version": "3.5.3"
  }
 },
 "nbformat": 4,
 "nbformat_minor": 2
}
