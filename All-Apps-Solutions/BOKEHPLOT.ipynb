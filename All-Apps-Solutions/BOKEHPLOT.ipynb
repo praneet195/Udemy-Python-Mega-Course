{
 "cells": [
  {
   "cell_type": "code",
   "execution_count": null,
   "metadata": {},
   "outputs": [],
   "source": [
    "from bkcharts import Scatter, output_file, show\n",
    "import pandas\n",
    "\n",
    "df = pandas.DataFrame(columns=[\"X\",\"Y\"])\n",
    "df['X']=[1,2,3,4,5]\n",
    "df['Y']=[5,6,4,5,3]\n",
    "\n",
    "p = Scatter(df, x='X', y='Y', title=\"Temperature Observation\", xlabel=\"Days of observation\", ylabel=\"Temperature\")\n",
    "output_file(\"Scatter_charts.html\")\n",
    "show(p)"
   ]
  },
  {
   "cell_type": "code",
   "execution_count": 1,
   "metadata": {},
   "outputs": [],
   "source": [
    "from bokeh.plotting import figure, output_file, show\n",
    "\n",
    "p = figure(plot_width=500,plot_height=400, logo=None)\n",
    "p.title.text = \"Earthquakes\"\n",
    "p.title.text_color = 'orange'\n",
    "p.title.text_font = 'times'\n",
    "p.title.text_font_style='italic'\n",
    "p.yaxis.minor_tick_line_color='yellow'\n",
    "p.xaxis.axis_label='Times'\n",
    "p.yaxis.axis_label='Value'\n",
    "p.circle([1,2,3,4,5],[5,6,5,3,3], size=[i*2 for i in [8,12,14,15,20]], color='red', alpha=0.5)\n",
    "output_file(\"Scatter_plotting.html\")\n",
    "show(p)"
   ]
  },
  {
   "cell_type": "code",
   "execution_count": 10,
   "metadata": {},
   "outputs": [],
   "source": [
    "from bokeh.plotting import figure, output_file, show\n",
    "import pandas\n",
    "\n",
    "p = figure(logo=None)\n",
    "p.title.text = \"Temperature and Air Pressure\"\n",
    "p.title.text_color = 'gray'\n",
    "p.title.text_font = 'times'\n",
    "p.title.text_font_style='italic'\n",
    "p.yaxis.minor_tick_line_color='yellow'\n",
    "p.xaxis.axis_label='Pressure(hPa)'\n",
    "p.yaxis.axis_label='Temperature(°C)'\n",
    "\n",
    "data_file = pandas.read_excel('verlegenhuken.xlsx')\n",
    "x_values = list(i/10 for i in data_file['Temperature'])\n",
    "y_values = list(i/10 for i in data_file['Pressure'])\n",
    "\n",
    "p.circle(x_values,y_values, size=0.5, color='blue')\n",
    "output_file(\"20181_Temp_Air_Pressure.html\")\n",
    "show(p)"
   ]
  },
  {
   "cell_type": "code",
   "execution_count": 33,
   "metadata": {},
   "outputs": [],
   "source": [
    "from bokeh.plotting import figure, output_file, show\n",
    "import pandas\n",
    "\n",
    "df = pandas.read_csv('adbe.csv',parse_dates=[\"Date\"])\n",
    "xaxis = df['Date']\n",
    "yaxis = df['Close']\n",
    "\n",
    "p = figure(plot_width=800, plot_height=300, responsive=True, \n",
    "           logo=None, x_axis_type=\"datetime\")\n",
    "p.line(xaxis, yaxis, color='blue', alpha=0.5)\n",
    "output_file(\"20184_time_series_plot.html\")\n",
    "show(p)"
   ]
  }
 ],
 "metadata": {
  "kernelspec": {
   "display_name": "Python 3",
   "language": "python",
   "name": "python3"
  },
  "language_info": {
   "codemirror_mode": {
    "name": "ipython",
    "version": 3
   },
   "file_extension": ".py",
   "mimetype": "text/x-python",
   "name": "python",
   "nbconvert_exporter": "python",
   "pygments_lexer": "ipython3",
   "version": "3.5.3"
  }
 },
 "nbformat": 4,
 "nbformat_minor": 2
}
